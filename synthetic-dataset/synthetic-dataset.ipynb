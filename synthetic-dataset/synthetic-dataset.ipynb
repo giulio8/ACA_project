{
 "cells": [
  {
   "cell_type": "code",
   "execution_count": 26,
   "metadata": {},
   "outputs": [],
   "source": [
    "import pandas as pd\n",
    "import random\n",
    "import numpy as np"
   ]
  },
  {
   "cell_type": "code",
   "execution_count": 27,
   "metadata": {},
   "outputs": [],
   "source": [
    "\n",
    "# Definiamo le condizioni mediche possibili\n",
    "conditions = [\"disabilità cognitiva A\", \"disabilità cognitiva B\", \"disabilità cognitiva C\", \"disabilità motoria\"]\n",
    "\n",
    "# Creiamo il DataFrame\n",
    "df = pd.DataFrame(conditions, columns=[\"condition\"])\n",
    "\n",
    "# Salviamo il DataFrame in un file CSV\n",
    "df.to_csv(\"condition.csv\", index_label=\"index\")\n"
   ]
  },
  {
   "cell_type": "code",
   "execution_count": 28,
   "metadata": {},
   "outputs": [],
   "source": [
    "# Carichiamo il file delle condizioni mediche\n",
    "conditions_df = pd.read_csv(\"condition.csv\")\n",
    "\n",
    "# Definiamo il numero di utenti (bambini)\n",
    "num_users = 50\n",
    "\n",
    "# Generiamo i dati casuali per il file user.csv\n",
    "users_data = {\n",
    "    \"user_id\": [i for i in range(num_users)],\n",
    "    \"condition_id\": [random.choice(conditions_df[\"index\"]) for _ in range(num_users)]\n",
    "}\n",
    "\n",
    "# Creiamo il DataFrame per gli utenti\n",
    "users_df = pd.DataFrame(users_data)\n",
    "\n",
    "# Salviamo il DataFrame in un file CSV\n",
    "users_df.to_csv(\"user.csv\", index=False)"
   ]
  },
  {
   "cell_type": "code",
   "execution_count": 29,
   "metadata": {},
   "outputs": [],
   "source": [
    "\n",
    "# Lista delle attività e dei relativi livelli di difficoltà\n",
    "activities = [\n",
    "    {\"activity\": \"Disegno con matite colorate o pastelli\", \"difficulty\": 0.3},\n",
    "    {\"activity\": \"Colorare immagini stampate con varie sfumature di colori\", \"difficulty\": 0.3},\n",
    "    {\"activity\": \"Usare timbri per creare pattern e disegni\", \"difficulty\": 0.3},\n",
    "    {\"activity\": \"Completare puzzle con pezzi di dimensioni adatte\", \"difficulty\": 0.4},\n",
    "    {\"activity\": \"Classificare e ordinare forme geometriche e colori\", \"difficulty\": 0.4},\n",
    "    {\"activity\": \"Costruire strutture con blocchi di legno o plastica\", \"difficulty\": 0.4},\n",
    "    {\"activity\": \"Giocare con bambole o pupazzi, creando scenari e dialoghi\", \"difficulty\": 0.5},\n",
    "    {\"activity\": \"Fare finta di cucinare con giocattoli da cucina e cibo finto\", \"difficulty\": 0.5},\n",
    "    {\"activity\": \"Simulare situazioni quotidiane come fare la spesa o andare al dottore\", \"difficulty\": 0.5},\n",
    "    {\"activity\": \"Giocare con palloni da calcio o da basket\", \"difficulty\": 0.6},\n",
    "    {\"activity\": \"Guidare macchinine su piste o creare percorsi con ostacoli\", \"difficulty\": 0.6},\n",
    "    {\"activity\": \"Saltare su trampolini o fare giri in bicicletta\", \"difficulty\": 0.6},\n",
    "    {\"activity\": \"Creare opere d'arte con carta, colla e materiali riciclati\", \"difficulty\": 0.7},\n",
    "    {\"activity\": \"Realizzare sculture con pasta modellabile o plastilina\", \"difficulty\": 0.7},\n",
    "    {\"activity\": \"Dipingere con le dita o con spugne per esplorare diverse texture e tecniche\", \"difficulty\": 0.7},\n",
    "    {\"activity\": \"Associare immagini con parole corrispondenti\", \"difficulty\": 0.8},\n",
    "    {\"activity\": \"Ordinare oggetti in base a dimensione, colore o forma\", \"difficulty\": 0.8},\n",
    "    {\"activity\": \"Risolvere semplici problemi matematici utilizzando manipolativi\", \"difficulty\": 0.8},\n",
    "    {\"activity\": \"Esplorare diverse consistenze con giochi di sabbia, farina o gelatina\", \"difficulty\": 0.9},\n",
    "    {\"activity\": \"Scoprire nuovi odori e sapori attraverso attività di cucina o esperimenti sensoriali\", \"difficulty\": 0.9},\n",
    "    {\"activity\": \"Ascoltare e identificare suoni con strumenti musicali o registrazioni\", \"difficulty\": 0.9},\n",
    "    {\"activity\": \"Esplorare la natura e raccogliere oggetti come foglie, sassi o fiori\", \"difficulty\": 1.0},\n",
    "    {\"activity\": \"Giocare con acqua e sabbia in un tavolo sensoriale\", \"difficulty\": 1.0},\n",
    "    {\"activity\": \"Svolgere attività di coordinazione e equilibrio su scivoli o altalene\", \"difficulty\": 1.0}\n",
    "]\n",
    "\n",
    "# Generiamo i dati per il file activity.csv\n",
    "activity_data = {\n",
    "    \"id\": [i for i in range(len(activities))],\n",
    "    \"activity\": [activity[\"activity\"] for activity in activities],\n",
    "    # la condizione target dipende dalla difficoltà dell'attività\n",
    "    \"target_condition\": [int(np.floor(activity[\"difficulty\"] * len(conditions_df)) - 1) for activity in activities]\n",
    "}\n",
    "\n",
    "# Creiamo il DataFrame per le attività\n",
    "activity_df = pd.DataFrame(activity_data)\n",
    "\n",
    "# Salviamo il DataFrame in un file CSV\n",
    "activity_df.to_csv(\"activity.csv\", index=False, sep=\"|\")\n"
   ]
  },
  {
   "cell_type": "code",
   "execution_count": 30,
   "metadata": {},
   "outputs": [],
   "source": [
    "# Carichiamo i file condition.csv e activity.csv\n",
    "user_df = pd.read_csv(\"user.csv\")\n",
    "activity_df = pd.read_csv(\"activity.csv\", sep=\"|\")\n",
    "\n",
    "# Definiamo la funzione per generare le preferenze realistiche\n",
    "def generate_preferences(user_condition, activity_target_condition):\n",
    "    # generiamo sparsità nei dati\n",
    "    if np.random.uniform(0, 1) < 0.1:\n",
    "        if user_condition == activity_target_condition:\n",
    "            # Se la condizione del bambino è uguale al target dell'attività, \n",
    "            # generiamo una valutazione alta con probabilità maggiore\n",
    "            return np.random.uniform(0.7, 1)\n",
    "        else:\n",
    "            # Altrimenti, generiamo una valutazione casuale con probabilità inferiore\n",
    "            return np.random.uniform(0, 0.5)\n",
    "    else:\n",
    "        return -1\n",
    "\n",
    "# Generiamo i dati per il file preference.csv\n",
    "preference_data = []\n",
    "for user_index, user_row in users_df.iterrows():\n",
    "    user_condition = user_row['condition_id']\n",
    "    for activity_index, activity_row in activity_df.iterrows():\n",
    "        activity_target_condition = activity_row['target_condition']\n",
    "        preference = generate_preferences(user_condition, activity_target_condition)\n",
    "        preference_data.append([user_index, activity_index, preference])\n",
    "\n",
    "# Creiamo il DataFrame per le preferenze\n",
    "preference_df = pd.DataFrame(preference_data, columns=[\"user_id\", \"activity_id\", \"preference\"])\n",
    "\n",
    "# Salviamo il DataFrame in un file CSV\n",
    "preference_df.to_csv(\"preference.csv\", index=False)\n"
   ]
  },
  {
   "cell_type": "code",
   "execution_count": 32,
   "metadata": {},
   "outputs": [
    {
     "name": "stdout",
     "output_type": "stream",
     "text": [
      "      user_id  activity_id  preference\n",
      "0           0            0   -1.000000\n",
      "1           0            1   -1.000000\n",
      "2           0            2    0.481939\n",
      "3           0            3   -1.000000\n",
      "4           0            4   -1.000000\n",
      "...       ...          ...         ...\n",
      "1195       49           19   -1.000000\n",
      "1196       49           20   -1.000000\n",
      "1197       49           21   -1.000000\n",
      "1198       49           22   -1.000000\n",
      "1199       49           23   -1.000000\n",
      "\n",
      "[1200 rows x 3 columns]\n",
      "Numero di valutazioni generate: 112\n",
      "Numero di valutazioni mancanti: 1088\n"
     ]
    }
   ],
   "source": [
    "# Visualizziamo la matrice delle preferenze e vediamo quante valutazioni sono state generate\n",
    "print(preference_df)\n",
    "print(\"Numero di valutazioni generate:\", len(preference_df[preference_df[\"preference\"] != -1]))\n",
    "print(\"Numero di valutazioni mancanti:\", len(preference_df[preference_df[\"preference\"] == -1]))"
   ]
  },
  {
   "cell_type": "code",
   "execution_count": 33,
   "metadata": {},
   "outputs": [
    {
     "data": {
      "text/plain": [
       "array([[<Axes: title={'center': 'preference'}>]], dtype=object)"
      ]
     },
     "execution_count": 33,
     "metadata": {},
     "output_type": "execute_result"
    },
    {
     "data": {
      "image/png": "[encoded data removed]",
      "text/plain": [
       "<Figure size 640x480 with 1 Axes>"
      ]
     },
     "metadata": {},
     "output_type": "display_data"
    }
   ],
   "source": [
    "preference_df.hist(column=\"preference\", bins=10)"
   ]
  }
 ],
 "metadata": {
  "kernelspec": {
   "display_name": "base",
   "language": "python",
   "name": "python3"
  },
  "language_info": {
   "codemirror_mode": {
    "name": "ipython",
    "version": 3
   },
   "file_extension": ".py",
   "mimetype": "text/x-python",
   "name": "python",
   "nbconvert_exporter": "python",
   "pygments_lexer": "ipython3",
   "version": "3.11.7"
  }
 },
 "nbformat": 4,
 "nbformat_minor": 2
}
