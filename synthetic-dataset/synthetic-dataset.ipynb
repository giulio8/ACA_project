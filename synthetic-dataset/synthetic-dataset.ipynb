{
 "cells": [
  {
   "cell_type": "code",
   "execution_count": 1,
   "metadata": {},
   "outputs": [],
   "source": [
    "import pandas as pd\n",
    "import random\n",
    "import numpy as np"
   ]
  },
  {
   "cell_type": "code",
   "execution_count": 2,
   "metadata": {},
   "outputs": [],
   "source": [
    "\n",
    "# Definiamo le condizioni mediche possibili\n",
    "conditions = [\"disabilità cognitiva A\", \"disabilità cognitiva B\", \"disabilità cognitiva C\", \"disabilità motoria\"]\n",
    "\n",
    "# Creiamo il DataFrame\n",
    "df = pd.DataFrame(conditions, columns=[\"condition\"])\n",
    "\n",
    "# Salviamo il DataFrame in un file CSV\n",
    "df.to_csv(\"condition.csv\", index_label=\"index\")\n"
   ]
  },
  {
   "cell_type": "code",
   "execution_count": 3,
   "metadata": {},
   "outputs": [],
   "source": [
    "# Carichiamo il file delle condizioni mediche\n",
    "conditions_df = pd.read_csv(\"condition.csv\")\n",
    "\n",
    "# Definiamo il numero di utenti (bambini)\n",
    "num_users = 50\n",
    "\n",
    "# Generiamo i dati casuali per il file user.csv\n",
    "users_data = {\n",
    "    \"user_id\": [i for i in range(num_users)],\n",
    "    \"condition_id\": [random.choice(conditions_df[\"index\"]) for _ in range(num_users)]\n",
    "}\n",
    "\n",
    "# Creiamo il DataFrame per gli utenti\n",
    "users_df = pd.DataFrame(users_data)\n",
    "\n",
    "# Salviamo il DataFrame in un file CSV\n",
    "users_df.to_csv(\"user.csv\", index=False)"
   ]
  },
  {
   "cell_type": "code",
   "execution_count": 4,
   "metadata": {},
   "outputs": [],
   "source": [
    "\n",
    "# Lista delle attività e dei relativi livelli di difficoltà\n",
    "activities = [\n",
    "    {\"activity\": \"Disegno con matite colorate o pastelli\", \"difficulty\": 0.3},\n",
    "    {\"activity\": \"Colorare immagini stampate con varie sfumature di colori\", \"difficulty\": 0.3},\n",
    "    {\"activity\": \"Usare timbri per creare pattern e disegni\", \"difficulty\": 0.3},\n",
    "    {\"activity\": \"Completare puzzle con pezzi di dimensioni adatte\", \"difficulty\": 0.4},\n",
    "    {\"activity\": \"Classificare e ordinare forme geometriche e colori\", \"difficulty\": 0.4},\n",
    "    {\"activity\": \"Costruire strutture con blocchi di legno o plastica\", \"difficulty\": 0.4},\n",
    "    {\"activity\": \"Giocare con bambole o pupazzi, creando scenari e dialoghi\", \"difficulty\": 0.5},\n",
    "    {\"activity\": \"Fare finta di cucinare con giocattoli da cucina e cibo finto\", \"difficulty\": 0.5},\n",
    "    {\"activity\": \"Simulare situazioni quotidiane come fare la spesa o andare al dottore\", \"difficulty\": 0.5},\n",
    "    {\"activity\": \"Giocare con palloni da calcio o da basket\", \"difficulty\": 0.6},\n",
    "    {\"activity\": \"Guidare macchinine su piste o creare percorsi con ostacoli\", \"difficulty\": 0.6},\n",
    "    {\"activity\": \"Saltare su trampolini o fare giri in bicicletta\", \"difficulty\": 0.6},\n",
    "    {\"activity\": \"Creare opere d'arte con carta, colla e materiali riciclati\", \"difficulty\": 0.7},\n",
    "    {\"activity\": \"Realizzare sculture con pasta modellabile o plastilina\", \"difficulty\": 0.7},\n",
    "    {\"activity\": \"Dipingere con le dita o con spugne per esplorare diverse texture e tecniche\", \"difficulty\": 0.7},\n",
    "    {\"activity\": \"Associare immagini con parole corrispondenti\", \"difficulty\": 0.8},\n",
    "    {\"activity\": \"Ordinare oggetti in base a dimensione, colore o forma\", \"difficulty\": 0.8},\n",
    "    {\"activity\": \"Risolvere semplici problemi matematici utilizzando manipolativi\", \"difficulty\": 0.8},\n",
    "    {\"activity\": \"Esplorare diverse consistenze con giochi di sabbia, farina o gelatina\", \"difficulty\": 0.9},\n",
    "    {\"activity\": \"Scoprire nuovi odori e sapori attraverso attività di cucina o esperimenti sensoriali\", \"difficulty\": 0.9},\n",
    "    {\"activity\": \"Ascoltare e identificare suoni con strumenti musicali o registrazioni\", \"difficulty\": 0.9},\n",
    "    {\"activity\": \"Esplorare la natura e raccogliere oggetti come foglie, sassi o fiori\", \"difficulty\": 1.0},\n",
    "    {\"activity\": \"Giocare con acqua e sabbia in un tavolo sensoriale\", \"difficulty\": 1.0},\n",
    "    {\"activity\": \"Svolgere attività di coordinazione e equilibrio su scivoli o altalene\", \"difficulty\": 1.0},\n",
    "    {\"activity\": \"Costruire una torre con blocchi di legno\", \"difficulty\": 0.3},\n",
    "    {\"activity\": \"Giocare a nascondino con oggetti\", \"difficulty\": 0.3},\n",
    "    {\"activity\": \"Decorare una pagina con adesivi colorati\", \"difficulty\": 0.3},\n",
    "    {\"activity\": \"Incastrare forme nei rispettivi spazi di un puzzle\", \"difficulty\": 0.4},\n",
    "    {\"activity\": \"Creare un collage con carta e colla\", \"difficulty\": 0.4},\n",
    "    {\"activity\": \"Imparare i colori con carte didattiche\", \"difficulty\": 0.4},\n",
    "    {\"activity\": \"Giocare a fare la spesa con un carrello e oggetti finti\", \"difficulty\": 0.5},\n",
    "    {\"activity\": \"Organizzare una festa con pupazzi\", \"difficulty\": 0.5},\n",
    "    {\"activity\": \"Raccontare una storia usando figure e oggetti\", \"difficulty\": 0.5},\n",
    "    {\"activity\": \"Calciare una palla verso un obiettivo\", \"difficulty\": 0.6},\n",
    "    {\"activity\": \"Corsa a ostacoli\", \"difficulty\": 0.6},\n",
    "    {\"activity\": \"Giocare a tira e molla con una corda\", \"difficulty\": 0.6},\n",
    "    {\"activity\": \"Creare braccialetti con perline\", \"difficulty\": 0.7},\n",
    "    {\"activity\": \"Pittura su tela con pennelli\", \"difficulty\": 0.7},\n",
    "    {\"activity\": \"Costruzione di modelli semplici con argilla\", \"difficulty\": 0.7},\n",
    "    {\"activity\": \"Leggere una storia semplice con immagini\", \"difficulty\": 0.8},\n",
    "    {\"activity\": \"Costruire figure geometriche con bastoncini\", \"difficulty\": 0.8},\n",
    "    {\"activity\": \"Risoluzione di semplici puzzle numerici\", \"difficulty\": 0.8},\n",
    "    {\"activity\": \"Esplorazione di texture diverse con oggetti sensoriali\", \"difficulty\": 0.9},\n",
    "    {\"activity\": \"Esperimenti di miscelazione con colori alimentari e acqua\", \"difficulty\": 0.9},\n",
    "    {\"activity\": \"Ascolto e identificazione di versi di animali\", \"difficulty\": 0.9},\n",
    "    {\"activity\": \"Passeggiata nella natura con osservazione di piante e animali\", \"difficulty\": 1.0},\n",
    "    {\"activity\": \"Costruzione di castelli di sabbia\", \"difficulty\": 1.0},\n",
    "    {\"activity\": \"Percorso di equilibrio su travi e blocchi\", \"difficulty\": 1.0},\n",
    "    {\"activity\": \"Decorare biscotti con glasse colorate\", \"difficulty\": 0.3},\n",
    "    {\"activity\": \"Gioco del memory con carte illustrate\", \"difficulty\": 0.3},\n",
    "    {\"activity\": \"Incollare pezzi di carta su una sagoma\", \"difficulty\": 0.3},\n",
    "    {\"activity\": \"Montare e smontare giocattoli modulari\", \"difficulty\": 0.4},\n",
    "    {\"activity\": \"Realizzare figure con il pongo\", \"difficulty\": 0.4},\n",
    "    {\"activity\": \"Giocare a bingo con immagini\", \"difficulty\": 0.4},\n",
    "    {\"activity\": \"Giocare a 'indovina l'oggetto' con scatole sensoriali\", \"difficulty\": 0.5},\n",
    "    {\"activity\": \"Interpretare ruoli con maschere e costumi\", \"difficulty\": 0.5},\n",
    "    {\"activity\": \"Costruire case di cartone per pupazzi\", \"difficulty\": 0.5},\n",
    "    {\"activity\": \"Lanciare palline in un canestro\", \"difficulty\": 0.6},\n",
    "    {\"activity\": \"Gioco del bowling con bottiglie e palline\", \"difficulty\": 0.6},\n",
    "    {\"activity\": \"Saltare la corda\", \"difficulty\": 0.6},\n",
    "    {\"activity\": \"Realizzare un album fotografico con immagini ritagliate\", \"difficulty\": 0.7},\n",
    "    {\"activity\": \"Creazione di mosaici con tessere colorate\", \"difficulty\": 0.7},\n",
    "    {\"activity\": \"Stampare figure con stencil e colori\", \"difficulty\": 0.7},\n",
    "    {\"activity\": \"Scrivere e illustrare una breve storia\", \"difficulty\": 0.8},\n",
    "    {\"activity\": \"Costruzione di strutture con cannucce e connettori\", \"difficulty\": 0.8},\n",
    "    {\"activity\": \"Risoluzione di giochi di logica con immagini\", \"difficulty\": 0.8},\n",
    "    {\"activity\": \"Manipolare schiuma da barba o gelatina\", \"difficulty\": 0.9},\n",
    "    {\"activity\": \"Esperimenti con bicarbonato e aceto\", \"difficulty\": 0.9},\n",
    "    {\"activity\": \"Creazione di strumenti musicali con materiali riciclati\", \"difficulty\": 0.9},\n",
    "    {\"activity\": \"Osservazione di insetti con una lente di ingrandimento\", \"difficulty\": 1.0},\n",
    "    {\"activity\": \"Giocare con bolle di sapone all'aperto\", \"difficulty\": 1.0},\n",
    "    {\"activity\": \"Giochi di equilibrio con sacchi di fagioli\", \"difficulty\": 1.0}\n",
    "\n",
    "]\n",
    "\n",
    "# Generiamo i dati per il file activity.csv\n",
    "activity_data = {\n",
    "    \"id\": [i for i in range(len(activities))],\n",
    "    \"activity\": [activity[\"activity\"] for activity in activities],\n",
    "    # la condizione target dipende dalla difficoltà dell'attività\n",
    "    \"target_condition\": [int(np.floor(activity[\"difficulty\"] * len(conditions_df)) - 1) for activity in activities]\n",
    "}\n",
    "\n",
    "# Creiamo il DataFrame per le attività\n",
    "activity_df = pd.DataFrame(activity_data)\n",
    "\n",
    "# Salviamo il DataFrame in un file CSV\n",
    "activity_df.to_csv(\"activity.csv\", index=False, sep=\"|\")\n"
   ]
  },
  {
   "cell_type": "code",
   "execution_count": 5,
   "metadata": {},
   "outputs": [],
   "source": [
    "# Carichiamo i file condition.csv e activity.csv\n",
    "user_df = pd.read_csv(\"user.csv\")\n",
    "activity_df = pd.read_csv(\"activity.csv\", sep=\"|\")\n",
    "\n",
    "# Definiamo la funzione per generare le preferenze realistiche\n",
    "def generate_preferences(user_condition, activity_target_condition):\n",
    "    # generiamo sparsità nei dati\n",
    "    if np.random.uniform(0, 1) < 0.15:\n",
    "        if user_condition == activity_target_condition:\n",
    "            # Se la condizione del bambino è uguale al target dell'attività, \n",
    "            # generiamo una valutazione alta con probabilità maggiore\n",
    "            return np.random.uniform(0.7, 1)\n",
    "        else:\n",
    "            # Altrimenti, generiamo una valutazione casuale con probabilità inferiore\n",
    "            return np.random.uniform(0, 0.5)\n",
    "    else:\n",
    "        return -1\n",
    "\n",
    "# Generiamo i dati per il file preference.csv\n",
    "preference_data = []\n",
    "for user_index, user_row in users_df.iterrows():\n",
    "    user_condition = user_row['condition_id']\n",
    "    for activity_index, activity_row in activity_df.iterrows():\n",
    "        activity_target_condition = activity_row['target_condition']\n",
    "        preference = generate_preferences(user_condition, activity_target_condition)\n",
    "        preference_data.append([user_index, activity_index, preference])\n",
    "\n",
    "# Creiamo il DataFrame per le preferenze\n",
    "preference_df = pd.DataFrame(preference_data, columns=[\"user_id\", \"activity_id\", \"preference\"])\n",
    "\n",
    "# Salviamo il DataFrame in un file CSV\n",
    "preference_df.to_csv(\"preference.csv\", index=False)\n"
   ]
  },
  {
   "cell_type": "code",
   "execution_count": 6,
   "metadata": {},
   "outputs": [
    {
     "name": "stdout",
     "output_type": "stream",
     "text": [
      "      user_id  activity_id  preference\n",
      "0           0            0   -1.000000\n",
      "1           0            1   -1.000000\n",
      "2           0            2   -1.000000\n",
      "3           0            3   -1.000000\n",
      "4           0            4   -1.000000\n",
      "...       ...          ...         ...\n",
      "3595       49           67    0.367880\n",
      "3596       49           68   -1.000000\n",
      "3597       49           69    0.396418\n",
      "3598       49           70   -1.000000\n",
      "3599       49           71   -1.000000\n",
      "\n",
      "[3600 rows x 3 columns]\n",
      "Numero di valutazioni generate: 527\n",
      "Numero di valutazioni mancanti: 3073\n"
     ]
    }
   ],
   "source": [
    "# Visualizziamo la matrice delle preferenze e vediamo quante valutazioni sono state generate\n",
    "print(preference_df)\n",
    "print(\"Numero di valutazioni generate:\", len(preference_df[preference_df[\"preference\"] != -1]))\n",
    "print(\"Numero di valutazioni mancanti:\", len(preference_df[preference_df[\"preference\"] == -1]))"
   ]
  },
  {
   "cell_type": "code",
   "execution_count": 7,
   "metadata": {},
   "outputs": [
    {
     "data": {
      "text/plain": [
       "array([[<AxesSubplot: title={'center': 'preference'}>]], dtype=object)"
      ]
     },
     "execution_count": 7,
     "metadata": {},
     "output_type": "execute_result"
    },
    {
     "data": {
      "image/png": "[encoded data removed]",
      "text/plain": [
       "<Figure size 640x480 with 1 Axes>"
      ]
     },
     "metadata": {},
     "output_type": "display_data"
    }
   ],
   "source": [
    "preference_df.hist(column=\"preference\", bins=10)"
   ]
  }
 ],
 "metadata": {
  "kernelspec": {
   "display_name": "base",
   "language": "python",
   "name": "python3"
  },
  "language_info": {
   "codemirror_mode": {
    "name": "ipython",
    "version": 3
   },
   "file_extension": ".py",
   "mimetype": "text/x-python",
   "name": "python",
   "nbconvert_exporter": "python",
   "pygments_lexer": "ipython3",
   "version": "3.11.7"
  }
 },
 "nbformat": 4,
 "nbformat_minor": 2
}
