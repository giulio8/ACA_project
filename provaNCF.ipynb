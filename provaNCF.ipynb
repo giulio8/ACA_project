{
  "cells": [
    {
      "cell_type": "markdown",
      "metadata": {
        "id": "GaelNHaU7tj7"
      },
      "source": [
        "## Collaborative filtering"
      ]
    },
    {
      "cell_type": "code",
      "execution_count": 2,
      "metadata": {
        "colab": {
          "base_uri": "https://localhost:8080/"
        },
        "id": "63GwkARO7tj8",
        "outputId": "eb3a02c4-b23a-4cd7-9276-72626b41e746"
      },
      "outputs": [
        {
          "name": "stdout",
          "output_type": "stream",
          "text": [
            "Number of activities 112\n",
            "Number of users 50\n",
            "{73.0: 1, 8.0: 2, 69.0: 3, 81.0: 4, 102.0: 5, 83.0: 6, 45.0: 7, 80.0: 8, 29.0: 9, 11.0: 10, 98.0: 11, 18.0: 12, 63.0: 13, 48.0: 14, 101.0: 15, 47.0: 16, 52.0: 17, 92.0: 18, 65.0: 19, 25.0: 20, 85.0: 21, 31.0: 22, 49.0: 23, 99.0: 24, 58.0: 25, 86.0: 26, 10.0: 27, 33.0: 28, 67.0: 29, 38.0: 30, 26.0: 31, 109.0: 32, 37.0: 33, 23.0: 34, 88.0: 35, 64.0: 36, 77.0: 37, 17.0: 38, 7.0: 39, 56.0: 40, 76.0: 41, 39.0: 42, 96.0: 43, 84.0: 44, 4.0: 45, 105.0: 46, 6.0: 47, 27.0: 48, 53.0: 49, 70.0: 50, 106.0: 51, 61.0: 52, 24.0: 53, 90.0: 54, 51.0: 55, 79.0: 56, 72.0: 57, 36.0: 58, 89.0: 59, 95.0: 60, 74.0: 61, 13.0: 62, 30.0: 63, 44.0: 64, 87.0: 65, 97.0: 66, 32.0: 67, 59.0: 68, 21.0: 69, 14.0: 70, 40.0: 71, 68.0: 72, 93.0: 73, 9.0: 74, 71.0: 75, 91.0: 76, 20.0: 77, 100.0: 78, 66.0: 79, 108.0: 80, 34.0: 81, 46.0: 82, 57.0: 83, 2.0: 84, 22.0: 85, 82.0: 86, 15.0: 87, 60.0: 88, 110.0: 89, 103.0: 90, 35.0: 91, 1.0: 92, 3.0: 93, 0.0: 94, 16.0: 95, 78.0: 96, 75.0: 97, 5.0: 98, 41.0: 99, 43.0: 100, 19.0: 101, 12.0: 102, 94.0: 103, 50.0: 104, 28.0: 105, 107.0: 106, 42.0: 107, 54.0: 108, 111.0: 109, 55.0: 110, 62.0: 111, 104.0: 112}\n"
          ]
        }
      ],
      "source": [
        "import pandas as pd\n",
        "import numpy as np\n",
        "from sklearn.model_selection import train_test_split\n",
        "\n",
        "\n",
        "############## NORMALIZZARE IL DATASET ##############\n",
        "\n",
        "\n",
        "dataset = pd.read_csv(\"synthetic-dataset/preference.csv\",header=1, names=['user_id', 'activity_id', 'rating'])\n",
        "\n",
        "# Replace -1 with NaN to indicate missing data\n",
        "dataset.replace(-1, np.nan, inplace=True)\n",
        "\n",
        "# Calcola la media delle preferenze per ogni utente\n",
        "mean_user_preferences = dataset.groupby('user_id')['rating'].transform('mean')\n",
        "\n",
        "# Sostituisci i NaN con la media calcolata per ciascun utente\n",
        "dataset['rating'] = dataset['rating'].fillna(mean_user_preferences)\n",
        "\n",
        "\n",
        "# Mischiare i dati\n",
        "dataset = dataset.sample(frac=1, random_state=42).reset_index(drop=True)\n",
        "\n",
        "# Need to map activity ID to [1, num_activities], assegna nuovi id alle attività per contare numero di attività e numero di utenti\n",
        "activity_id_to_new_id = dict()\n",
        "id = 1\n",
        "for index, row in dataset.iterrows():\n",
        "    if activity_id_to_new_id.get(row['activity_id']) is None:\n",
        "        activity_id_to_new_id[row['activity_id']] = id\n",
        "        dataset.at[index, 'activity_id'] = id\n",
        "        id += 1\n",
        "    else:\n",
        "        dataset.at[index, 'activity_id'] = activity_id_to_new_id.get(row['activity_id'])\n",
        "\n",
        "num_users = len(dataset.user_id.unique())\n",
        "num_activities = len(dataset.activity_id.unique())\n",
        "train, test = train_test_split(dataset, test_size=0.2)\n",
        "\n",
        "\n",
        "print('Number of activities', num_activities)\n",
        "print('Number of users', num_users)\n",
        "print(activity_id_to_new_id)"
      ]
    },
    {
      "cell_type": "code",
      "execution_count": 3,
      "metadata": {
        "colab": {
          "base_uri": "https://localhost:8080/",
          "height": 206
        },
        "id": "3h-_r8Fy7tj9",
        "outputId": "734c620d-2b54-4c1c-96b2-77bb7720c973"
      },
      "outputs": [
        {
          "data": {
            "text/html": [
              "<div>\n",
              "<style scoped>\n",
              "    .dataframe tbody tr th:only-of-type {\n",
              "        vertical-align: middle;\n",
              "    }\n",
              "\n",
              "    .dataframe tbody tr th {\n",
              "        vertical-align: top;\n",
              "    }\n",
              "\n",
              "    .dataframe thead th {\n",
              "        text-align: right;\n",
              "    }\n",
              "</style>\n",
              "<table border=\"1\" class=\"dataframe\">\n",
              "  <thead>\n",
              "    <tr style=\"text-align: right;\">\n",
              "      <th></th>\n",
              "      <th>user_id</th>\n",
              "      <th>activity_id</th>\n",
              "      <th>rating</th>\n",
              "    </tr>\n",
              "  </thead>\n",
              "  <tbody>\n",
              "    <tr>\n",
              "      <th>3183</th>\n",
              "      <td>31</td>\n",
              "      <td>90</td>\n",
              "      <td>0.290736</td>\n",
              "    </tr>\n",
              "    <tr>\n",
              "      <th>465</th>\n",
              "      <td>3</td>\n",
              "      <td>58</td>\n",
              "      <td>0.460608</td>\n",
              "    </tr>\n",
              "    <tr>\n",
              "      <th>243</th>\n",
              "      <td>7</td>\n",
              "      <td>38</td>\n",
              "      <td>0.335886</td>\n",
              "    </tr>\n",
              "    <tr>\n",
              "      <th>5052</th>\n",
              "      <td>6</td>\n",
              "      <td>52</td>\n",
              "      <td>0.268244</td>\n",
              "    </tr>\n",
              "    <tr>\n",
              "      <th>451</th>\n",
              "      <td>5</td>\n",
              "      <td>29</td>\n",
              "      <td>0.466963</td>\n",
              "    </tr>\n",
              "  </tbody>\n",
              "</table>\n",
              "</div>"
            ],
            "text/plain": [
              "      user_id  activity_id    rating\n",
              "3183       31           90  0.290736\n",
              "465         3           58  0.460608\n",
              "243         7           38  0.335886\n",
              "5052        6           52  0.268244\n",
              "451         5           29  0.466963"
            ]
          },
          "execution_count": 3,
          "metadata": {},
          "output_type": "execute_result"
        }
      ],
      "source": [
        "train.head()"
      ]
    },
    {
      "cell_type": "code",
      "execution_count": 4,
      "metadata": {
        "colab": {
          "base_uri": "https://localhost:8080/",
          "height": 206
        },
        "id": "y36rGLZq7tj9",
        "outputId": "59a826af-bdc6-41d2-9b1c-f090d89bc4ce"
      },
      "outputs": [
        {
          "data": {
            "text/html": [
              "<div>\n",
              "<style scoped>\n",
              "    .dataframe tbody tr th:only-of-type {\n",
              "        vertical-align: middle;\n",
              "    }\n",
              "\n",
              "    .dataframe tbody tr th {\n",
              "        vertical-align: top;\n",
              "    }\n",
              "\n",
              "    .dataframe thead th {\n",
              "        text-align: right;\n",
              "    }\n",
              "</style>\n",
              "<table border=\"1\" class=\"dataframe\">\n",
              "  <thead>\n",
              "    <tr style=\"text-align: right;\">\n",
              "      <th></th>\n",
              "      <th>user_id</th>\n",
              "      <th>activity_id</th>\n",
              "      <th>rating</th>\n",
              "    </tr>\n",
              "  </thead>\n",
              "  <tbody>\n",
              "    <tr>\n",
              "      <th>2563</th>\n",
              "      <td>43</td>\n",
              "      <td>102</td>\n",
              "      <td>0.365810</td>\n",
              "    </tr>\n",
              "    <tr>\n",
              "      <th>2924</th>\n",
              "      <td>11</td>\n",
              "      <td>17</td>\n",
              "      <td>0.565105</td>\n",
              "    </tr>\n",
              "    <tr>\n",
              "      <th>1570</th>\n",
              "      <td>30</td>\n",
              "      <td>42</td>\n",
              "      <td>0.284694</td>\n",
              "    </tr>\n",
              "    <tr>\n",
              "      <th>3688</th>\n",
              "      <td>12</td>\n",
              "      <td>66</td>\n",
              "      <td>0.506364</td>\n",
              "    </tr>\n",
              "    <tr>\n",
              "      <th>2579</th>\n",
              "      <td>39</td>\n",
              "      <td>102</td>\n",
              "      <td>0.421370</td>\n",
              "    </tr>\n",
              "  </tbody>\n",
              "</table>\n",
              "</div>"
            ],
            "text/plain": [
              "      user_id  activity_id    rating\n",
              "2563       43          102  0.365810\n",
              "2924       11           17  0.565105\n",
              "1570       30           42  0.284694\n",
              "3688       12           66  0.506364\n",
              "2579       39          102  0.421370"
            ]
          },
          "execution_count": 4,
          "metadata": {},
          "output_type": "execute_result"
        }
      ],
      "source": [
        "test.head()"
      ]
    },
    {
      "cell_type": "markdown",
      "metadata": {
        "id": "xrRgmaIe7tj9"
      },
      "source": [
        "### Model layers"
      ]
    },
    {
      "cell_type": "code",
      "execution_count": 5,
      "metadata": {
        "id": "pkHXbSqH7tj-"
      },
      "outputs": [
        {
          "name": "stderr",
          "output_type": "stream",
          "text": [
            "2024-06-26 12:52:25.919987: I tensorflow/core/platform/cpu_feature_guard.cc:182] This TensorFlow binary is optimized to use available CPU instructions in performance-critical operations.\n",
            "To enable the following instructions: SSE4.1 SSE4.2 AVX AVX2 AVX512F AVX512_VNNI FMA, in other operations, rebuild TensorFlow with the appropriate compiler flags.\n",
            "2024-06-26 12:52:27.949884: I tensorflow/core/common_runtime/process_util.cc:146] Creating new thread pool with default inter op setting: 2. Tune using inter_op_parallelism_threads for best performance.\n"
          ]
        }
      ],
      "source": [
        "from keras.models import Model\n",
        "from keras.layers import Embedding, Flatten, Input, Dropout, Dense, BatchNormalization, concatenate, dot\n",
        "from keras.optimizers import Adam\n",
        "from tensorflow.keras.utils import plot_model\n",
        "from IPython.display import SVG\n",
        "\n",
        "latent_dim = 1 #capire se mettere 1 o 10\n",
        "\n",
        "# Define inputs\n",
        "activity_input = Input(shape=[1], name='activity-input')\n",
        "user_input = Input(shape=[1], name='user-input')\n",
        "\n",
        "# MLP Embeddings\n",
        "activity_embedding_mlp = Embedding(num_activities + 1, latent_dim, name='activity-embedding-mlp')(activity_input)\n",
        "activity_vec_mlp = Flatten(name='flatten-activity-mlp')(activity_embedding_mlp)\n",
        "\n",
        "user_embedding_mlp = Embedding(num_users + 1, latent_dim, name='user-embedding-mlp')(user_input)\n",
        "user_vec_mlp = Flatten(name='flatten-user-mlp')(user_embedding_mlp)\n",
        "\n",
        "# MF Embeddings\n",
        "activity_embedding_mf = Embedding(num_activities + 1, latent_dim, name='activity-embedding-mf')(activity_input)\n",
        "activity_vec_mf = Flatten(name='flatten-activity-mf')(activity_embedding_mf)\n",
        "\n",
        "user_embedding_mf = Embedding(num_users + 1, latent_dim, name='user-embedding-mf')(user_input)\n",
        "user_vec_mf = Flatten(name='flatten-user-mf')(user_embedding_mf)\n",
        "\n",
        "# MLP layers\n",
        "concat = concatenate([activity_vec_mlp, user_vec_mlp], name='concat')\n",
        "concat_dropout = Dropout(0.2)(concat)\n",
        "fc_1 = Dense(100, name='fc-1', activation='relu')(concat_dropout)\n",
        "fc_1_bn = BatchNormalization(name='batch-norm-1')(fc_1)\n",
        "fc_1_dropout = Dropout(0.2)(fc_1_bn)\n",
        "fc_2 = Dense(50, name='fc-2', activation='relu')(fc_1_dropout)\n",
        "fc_2_bn = BatchNormalization(name='batch-norm-2')(fc_2)\n",
        "fc_2_dropout = Dropout(0.2)(fc_2_bn)\n",
        "\n",
        "# Prediction from both layers\n",
        "pred_mlp = Dense(10, name='pred-mlp', activation='relu')(fc_2_dropout)\n",
        "pred_mf = dot([activity_vec_mf, user_vec_mf], axes=1, name='pred-mf')\n",
        "combine_mlp_mf = concatenate([pred_mf, pred_mlp], name='combine-mlp-mf')\n",
        "\n",
        "# Final prediction\n",
        "result = Dense(1, name='result', activation='relu')(combine_mlp_mf)\n",
        "\n",
        "model = Model([user_input, activity_input], result)\n",
        "model.compile(optimizer=Adam(learning_rate=0.01), loss='mean_absolute_error')\n",
        "\n",
        "# Visualize the model\n",
        "#plot_model(model, to_file='model.png', show_shapes=True, show_layer_names=True)\n",
        "#SVG('model.png')"
      ]
    },
    {
      "cell_type": "code",
      "execution_count": 6,
      "metadata": {
        "colab": {
          "base_uri": "https://localhost:8080/"
        },
        "id": "jhnPVohp7tj-",
        "outputId": "9294557c-459d-470a-f3e6-6ac2a3ecdb3b"
      },
      "outputs": [
        {
          "name": "stdout",
          "output_type": "stream",
          "text": [
            "Model: \"model\"\n",
            "__________________________________________________________________________________________________\n",
            " Layer (type)                   Output Shape         Param #     Connected to                     \n",
            "==================================================================================================\n",
            " activity-input (InputLayer)    [(None, 1)]          0           []                               \n",
            "                                                                                                  \n",
            " user-input (InputLayer)        [(None, 1)]          0           []                               \n",
            "                                                                                                  \n",
            " activity-embedding-mlp (Embedd  (None, 1, 1)        113         ['activity-input[0][0]']         \n",
            " ing)                                                                                             \n",
            "                                                                                                  \n",
            " user-embedding-mlp (Embedding)  (None, 1, 1)        51          ['user-input[0][0]']             \n",
            "                                                                                                  \n",
            " flatten-activity-mlp (Flatten)  (None, 1)           0           ['activity-embedding-mlp[0][0]'] \n",
            "                                                                                                  \n",
            " flatten-user-mlp (Flatten)     (None, 1)            0           ['user-embedding-mlp[0][0]']     \n",
            "                                                                                                  \n",
            " concat (Concatenate)           (None, 2)            0           ['flatten-activity-mlp[0][0]',   \n",
            "                                                                  'flatten-user-mlp[0][0]']       \n",
            "                                                                                                  \n",
            " dropout (Dropout)              (None, 2)            0           ['concat[0][0]']                 \n",
            "                                                                                                  \n",
            " fc-1 (Dense)                   (None, 100)          300         ['dropout[0][0]']                \n",
            "                                                                                                  \n",
            " batch-norm-1 (BatchNormalizati  (None, 100)         400         ['fc-1[0][0]']                   \n",
            " on)                                                                                              \n",
            "                                                                                                  \n",
            " dropout_1 (Dropout)            (None, 100)          0           ['batch-norm-1[0][0]']           \n",
            "                                                                                                  \n",
            " fc-2 (Dense)                   (None, 50)           5050        ['dropout_1[0][0]']              \n",
            "                                                                                                  \n",
            " activity-embedding-mf (Embeddi  (None, 1, 1)        113         ['activity-input[0][0]']         \n",
            " ng)                                                                                              \n",
            "                                                                                                  \n",
            " user-embedding-mf (Embedding)  (None, 1, 1)         51          ['user-input[0][0]']             \n",
            "                                                                                                  \n",
            " batch-norm-2 (BatchNormalizati  (None, 50)          200         ['fc-2[0][0]']                   \n",
            " on)                                                                                              \n",
            "                                                                                                  \n",
            " flatten-activity-mf (Flatten)  (None, 1)            0           ['activity-embedding-mf[0][0]']  \n",
            "                                                                                                  \n",
            " flatten-user-mf (Flatten)      (None, 1)            0           ['user-embedding-mf[0][0]']      \n",
            "                                                                                                  \n",
            " dropout_2 (Dropout)            (None, 50)           0           ['batch-norm-2[0][0]']           \n",
            "                                                                                                  \n",
            " pred-mf (Dot)                  (None, 1)            0           ['flatten-activity-mf[0][0]',    \n",
            "                                                                  'flatten-user-mf[0][0]']        \n",
            "                                                                                                  \n",
            " pred-mlp (Dense)               (None, 10)           510         ['dropout_2[0][0]']              \n",
            "                                                                                                  \n",
            " combine-mlp-mf (Concatenate)   (None, 11)           0           ['pred-mf[0][0]',                \n",
            "                                                                  'pred-mlp[0][0]']               \n",
            "                                                                                                  \n",
            " result (Dense)                 (None, 1)            12          ['combine-mlp-mf[0][0]']         \n",
            "                                                                                                  \n",
            "==================================================================================================\n",
            "Total params: 6,800\n",
            "Trainable params: 6,500\n",
            "Non-trainable params: 300\n",
            "__________________________________________________________________________________________________\n"
          ]
        }
      ],
      "source": [
        "model.summary()"
      ]
    },
    {
      "cell_type": "markdown",
      "metadata": {
        "id": "IRMx3RTp7tj-"
      },
      "source": [
        "### Training and MAE evaluation"
      ]
    },
    {
      "cell_type": "code",
      "execution_count": 7,
      "metadata": {
        "colab": {
          "base_uri": "https://localhost:8080/",
          "height": 831
        },
        "id": "sgzblkTM7tj-",
        "outputId": "aab089ec-5c0c-4dd8-c464-bf3b9de2af21"
      },
      "outputs": [
        {
          "name": "stdout",
          "output_type": "stream",
          "text": [
            "Epoch 1/10\n",
            "140/140 [==============================] - 2s 10ms/step - loss: 0.1942\n",
            "Epoch 2/10\n",
            "140/140 [==============================] - 1s 7ms/step - loss: 0.0828\n",
            "Epoch 3/10\n",
            "140/140 [==============================] - 1s 8ms/step - loss: 0.0472\n",
            "Epoch 4/10\n",
            "140/140 [==============================] - 1s 6ms/step - loss: 0.0429\n",
            "Epoch 5/10\n",
            "140/140 [==============================] - 1s 5ms/step - loss: 0.0420\n",
            "Epoch 6/10\n",
            "140/140 [==============================] - 1s 5ms/step - loss: 0.0418\n",
            "Epoch 7/10\n",
            "140/140 [==============================] - 1s 4ms/step - loss: 0.0413\n",
            "Epoch 8/10\n",
            "140/140 [==============================] - 1s 5ms/step - loss: 0.0412\n",
            "Epoch 9/10\n",
            "140/140 [==============================] - 1s 7ms/step - loss: 0.0407\n",
            "Epoch 10/10\n",
            "140/140 [==============================] - 1s 6ms/step - loss: 0.0409\n"
          ]
        },
        {
          "data": {
            "image/png": "[encoded data removed]",
            "text/plain": [
              "<Figure size 640x480 with 1 Axes>"
            ]
          },
          "metadata": {},
          "output_type": "display_data"
        },
        {
          "name": "stdout",
          "output_type": "stream",
          "text": [
            "35/35 [==============================] - 0s 3ms/step\n"
          ]
        },
        {
          "data": {
            "text/plain": [
              "0.04126449798213836"
            ]
          },
          "execution_count": 7,
          "metadata": {},
          "output_type": "execute_result"
        }
      ],
      "source": [
        "import matplotlib.pyplot as plt\n",
        "from sklearn.metrics import mean_absolute_error\n",
        "history = model.fit([train.user_id, train.activity_id], train.rating, epochs=10)\n",
        "pd.Series(history.history['loss']).plot(logy=True)\n",
        "plt.xlabel(\"Epoch\")\n",
        "plt.ylabel(\"Train Error\")\n",
        "plt.show()\n",
        "\n",
        "y_hat = np.round(model.predict([test.user_id, test.activity_id]), decimals=2)\n",
        "y_true = test.rating\n",
        "mean_absolute_error(y_true, y_hat)"
      ]
    },
    {
      "cell_type": "markdown",
      "metadata": {
        "id": "YA9Lp0p57tj-"
      },
      "source": [
        "### Conversion to TFLite model"
      ]
    },
    {
      "cell_type": "markdown",
      "metadata": {
        "id": "i8IUF-7f7tj-"
      },
      "source": [
        "Conversione"
      ]
    },
    {
      "cell_type": "code",
      "execution_count": 8,
      "metadata": {
        "id": "cXjrn3477tj-"
      },
      "outputs": [
        {
          "name": "stderr",
          "output_type": "stream",
          "text": [
            "2024-06-25 13:43:41.760834: I tensorflow/core/common_runtime/executor.cc:1197] [/device:CPU:0] (DEBUG INFO) Executor start aborting (this does not indicate an error and you can ignore this message): INVALID_ARGUMENT: You must feed a value for placeholder tensor 'inputs' with dtype float and shape [?,2]\n",
            "\t [[{{node inputs}}]]\n",
            "2024-06-25 13:43:41.768730: I tensorflow/core/common_runtime/executor.cc:1197] [/device:CPU:0] (DEBUG INFO) Executor start aborting (this does not indicate an error and you can ignore this message): INVALID_ARGUMENT: You must feed a value for placeholder tensor 'inputs' with dtype float and shape [?,100]\n",
            "\t [[{{node inputs}}]]\n",
            "2024-06-25 13:43:41.780548: I tensorflow/core/common_runtime/executor.cc:1197] [/device:CPU:0] (DEBUG INFO) Executor start aborting (this does not indicate an error and you can ignore this message): INVALID_ARGUMENT: You must feed a value for placeholder tensor 'inputs' with dtype float and shape [?,50]\n",
            "\t [[{{node inputs}}]]\n",
            "WARNING:absl:Function `_wrapped_model` contains input name(s) user-input, activity-input with unsupported characters which will be renamed to user_input, activity_input in the SavedModel.\n",
            "WARNING:absl:`user-input` is not a valid tf.function parameter name. Sanitizing to `user_input`.\n",
            "WARNING:absl:`activity-input` is not a valid tf.function parameter name. Sanitizing to `activity_input`.\n",
            "WARNING:absl:`user-input` is not a valid tf.function parameter name. Sanitizing to `user_input`.\n",
            "WARNING:absl:`activity-input` is not a valid tf.function parameter name. Sanitizing to `activity_input`.\n",
            "WARNING:absl:`user-input` is not a valid tf.function parameter name. Sanitizing to `user_input`.\n",
            "2024-06-25 13:43:42.009056: I tensorflow/core/common_runtime/executor.cc:1197] [/device:CPU:0] (DEBUG INFO) Executor start aborting (this does not indicate an error and you can ignore this message): INVALID_ARGUMENT: You must feed a value for placeholder tensor 'inputs' with dtype float and shape [?,2]\n",
            "\t [[{{node inputs}}]]\n",
            "2024-06-25 13:43:42.048076: I tensorflow/core/common_runtime/executor.cc:1197] [/device:CPU:0] (DEBUG INFO) Executor start aborting (this does not indicate an error and you can ignore this message): INVALID_ARGUMENT: You must feed a value for placeholder tensor 'inputs' with dtype float and shape [?,100]\n",
            "\t [[{{node inputs}}]]\n",
            "2024-06-25 13:43:42.109733: I tensorflow/core/common_runtime/executor.cc:1197] [/device:CPU:0] (DEBUG INFO) Executor start aborting (this does not indicate an error and you can ignore this message): INVALID_ARGUMENT: You must feed a value for placeholder tensor 'inputs' with dtype float and shape [?,50]\n",
            "\t [[{{node inputs}}]]\n"
          ]
        },
        {
          "name": "stdout",
          "output_type": "stream",
          "text": [
            "INFO:tensorflow:Assets written to: /tmp/tmpaqmoe33d/assets\n"
          ]
        },
        {
          "name": "stderr",
          "output_type": "stream",
          "text": [
            "INFO:tensorflow:Assets written to: /tmp/tmpaqmoe33d/assets\n",
            "2024-06-25 13:43:43.171093: W tensorflow/compiler/mlir/lite/python/tf_tfl_flatbuffer_helpers.cc:364] Ignored output_format.\n",
            "2024-06-25 13:43:43.171123: W tensorflow/compiler/mlir/lite/python/tf_tfl_flatbuffer_helpers.cc:367] Ignored drop_control_dependency.\n",
            "2024-06-25 13:43:43.171739: I tensorflow/cc/saved_model/reader.cc:45] Reading SavedModel from: /tmp/tmpaqmoe33d\n",
            "2024-06-25 13:43:43.173706: I tensorflow/cc/saved_model/reader.cc:89] Reading meta graph with tags { serve }\n",
            "2024-06-25 13:43:43.173718: I tensorflow/cc/saved_model/reader.cc:130] Reading SavedModel debug info (if present) from: /tmp/tmpaqmoe33d\n",
            "2024-06-25 13:43:43.177374: I tensorflow/core/common_runtime/process_util.cc:146] Creating new thread pool with default inter op setting: 2. Tune using inter_op_parallelism_threads for best performance.\n",
            "2024-06-25 13:43:43.184273: I tensorflow/compiler/mlir/mlir_graph_optimization_pass.cc:353] MLIR V1 optimization pass is not enabled\n",
            "2024-06-25 13:43:43.186531: I tensorflow/cc/saved_model/loader.cc:231] Restoring SavedModel bundle.\n",
            "2024-06-25 13:43:43.241707: I tensorflow/cc/saved_model/loader.cc:215] Running initialization op on SavedModel bundle at path: /tmp/tmpaqmoe33d\n",
            "2024-06-25 13:43:43.256010: I tensorflow/cc/saved_model/loader.cc:314] SavedModel load for tags { serve }; Status: success: OK. Took 84270 microseconds.\n",
            "2024-06-25 13:43:43.344610: I tensorflow/compiler/mlir/tensorflow/utils/dump_mlir_util.cc:269] disabling MLIR crash reproducer, set env var `MLIR_CRASH_REPRODUCER_DIRECTORY` to enable.\n"
          ]
        }
      ],
      "source": [
        "import tensorflow as tf\n",
        "# Convert the model.\n",
        "converter = tf.lite.TFLiteConverter.from_keras_model(model)\n",
        "tflite_model = converter.convert()\n",
        "\n",
        "# Save the model.\n",
        "with open('model.tflite', 'wb') as f:\n",
        "  f.write(tflite_model)"
      ]
    },
    {
      "cell_type": "code",
      "execution_count": 9,
      "metadata": {
        "colab": {
          "base_uri": "https://localhost:8080/"
        },
        "id": "03Tc5dLU7tj-",
        "outputId": "88b2abd0-0138-41b7-ad45-b96f69bcd33c"
      },
      "outputs": [
        {
          "name": "stdout",
          "output_type": "stream",
          "text": [
            "Predicted rating for user 1 and activity 50: 0.5285766124725342\n"
          ]
        },
        {
          "name": "stderr",
          "output_type": "stream",
          "text": [
            "INFO: Created TensorFlow Lite XNNPACK delegate for CPU.\n"
          ]
        }
      ],
      "source": [
        "# Caricare il modello TensorFlow Lite\n",
        "interpreter = tf.lite.Interpreter(model_path='model.tflite')\n",
        "\n",
        "# Allocare i tensori\n",
        "interpreter.allocate_tensors()\n",
        "\n",
        "# Ottenere i dettagli degli input e degli output\n",
        "input_details = interpreter.get_input_details()\n",
        "output_details = interpreter.get_output_details()\n",
        "\n",
        "# Prepara i dati di input per l'inferenza (esempio con un singolo utente e attività)\n",
        "user_id = 1\n",
        "activity_id = 50#il limite è 50\n",
        "\n",
        "# Normalizza l'input secondo il modello se necessario (qui l'input è già un array 2D)\n",
        "input_data = {\n",
        "    'user-input': np.array([[user_id]], dtype=np.float32),\n",
        "    'activity-input': np.array([[activity_id]], dtype=np.float32)\n",
        "}\n",
        "\n",
        "# Impostare i dati di input\n",
        "interpreter.set_tensor(input_details[0]['index'], input_data['user-input'])\n",
        "interpreter.set_tensor(input_details[1]['index'], input_data['activity-input'])\n",
        "\n",
        "# Eseguire l'inferenza\n",
        "interpreter.invoke()\n",
        "\n",
        "# Recuperare i risultati\n",
        "output_data = interpreter.get_tensor(output_details[0]['index'])\n",
        "print(f\"Predicted rating for user {user_id} and activity {activity_id}: {output_data[0][0]}\")"
      ]
    },
    {
      "cell_type": "markdown",
      "metadata": {
        "id": "8vzyf9uv7tj_"
      },
      "source": [
        "## Performance evaluation"
      ]
    },
    {
      "cell_type": "markdown",
      "metadata": {
        "id": "iJo6Cp4D7tj_"
      },
      "source": [
        "GPU Utilization: only on colab with the selection of the GPU\n"
      ]
    },
    {
      "cell_type": "markdown",
      "metadata": {
        "id": "bVzyGYm37tj_"
      },
      "source": [
        "Performance with svim"
      ]
    },
    {
      "cell_type": "code",
      "execution_count": 10,
      "metadata": {
        "colab": {
          "base_uri": "https://localhost:8080/",
          "height": 1000
        },
        "id": "LCCaATaq7tj_",
        "outputId": "77188cd3-4f14-4740-be26-9868402980ee"
      },
      "outputs": [
        {
          "ename": "ModuleNotFoundError",
          "evalue": "No module named 'GPUtil'",
          "output_type": "error",
          "traceback": [
            "\u001b[0;31m---------------------------------------------------------------------------\u001b[0m",
            "\u001b[0;31mModuleNotFoundError\u001b[0m                       Traceback (most recent call last)",
            "Cell \u001b[0;32mIn[10], line 7\u001b[0m\n\u001b[1;32m      5\u001b[0m \u001b[38;5;28;01mfrom\u001b[39;00m \u001b[38;5;21;01msklearn\u001b[39;00m\u001b[38;5;21;01m.\u001b[39;00m\u001b[38;5;21;01mmodel_selection\u001b[39;00m \u001b[38;5;28;01mimport\u001b[39;00m train_test_split\n\u001b[1;32m      6\u001b[0m \u001b[38;5;28;01mimport\u001b[39;00m \u001b[38;5;21;01mtime\u001b[39;00m\n\u001b[0;32m----> 7\u001b[0m \u001b[38;5;28;01mimport\u001b[39;00m \u001b[38;5;21;01mGPUtil\u001b[39;00m\n\u001b[1;32m      8\u001b[0m \u001b[38;5;28;01mimport\u001b[39;00m \u001b[38;5;21;01mpynvml\u001b[39;00m\n\u001b[1;32m      9\u001b[0m \u001b[38;5;28;01mimport\u001b[39;00m \u001b[38;5;21;01mmatplotlib\u001b[39;00m\u001b[38;5;21;01m.\u001b[39;00m\u001b[38;5;21;01mpyplot\u001b[39;00m \u001b[38;5;28;01mas\u001b[39;00m \u001b[38;5;21;01mplt\u001b[39;00m\n",
            "\u001b[0;31mModuleNotFoundError\u001b[0m: No module named 'GPUtil'"
          ]
        }
      ],
      "source": [
        "#!pip install pynvml\n",
        "#!pip install gputil\n",
        "import pandas as pd\n",
        "import numpy as np\n",
        "from sklearn.model_selection import train_test_split\n",
        "import time\n",
        "import GPUtil\n",
        "import pynvml\n",
        "import matplotlib.pyplot as plt\n",
        "from keras.models import Model\n",
        "from keras.layers import Embedding, Flatten, Input, Dropout, Dense, BatchNormalization, concatenate, dot\n",
        "from keras.optimizers import Adam\n",
        "from sklearn.metrics import mean_absolute_error\n",
        "import tensorflow as tf\n",
        "from tensorflow.keras.callbacks import Callback\n",
        "\n",
        "# Inizializza NVML\n",
        "pynvml.nvmlInit()\n",
        "\n",
        "# Funzione per monitorare l'utilizzo della GPU\n",
        "def print_gpu_utilization():\n",
        "    GPUs = GPUtil.getGPUs()\n",
        "    for gpu in GPUs:\n",
        "        handle = pynvml.nvmlDeviceGetHandleByIndex(gpu.id)\n",
        "        graphics_clock = pynvml.nvmlDeviceGetClockInfo(handle, pynvml.NVML_CLOCK_GRAPHICS)\n",
        "        sm_clock = pynvml.nvmlDeviceGetClockInfo(handle, pynvml.NVML_CLOCK_SM)\n",
        "        memory_clock = pynvml.nvmlDeviceGetClockInfo(handle, pynvml.NVML_CLOCK_MEM)\n",
        "        print(f\"GPU {gpu.id}: {gpu.name}\")\n",
        "        print(f\"  Utilization: {gpu.load*100:.2f}%\")\n",
        "        print(f\"  Memory Used: {gpu.memoryUsed} MB\")\n",
        "        print(f\"  Memory Total: {gpu.memoryTotal} MB\")\n",
        "        print(f\"  Graphics Clock: {graphics_clock} MHz\")\n",
        "        print(f\"  SM Clock: {sm_clock} MHz\")\n",
        "        print(f\"  Memory Clock: {memory_clock} MHz\")\n",
        "\n",
        "# Funzione per registrare l'utilizzo della GPU durante l'addestramento\n",
        "def log_gpu_utilization():\n",
        "    utilization = []\n",
        "    memory_used = []\n",
        "    graphics_clocks = []\n",
        "    sm_clocks = []\n",
        "    memory_clocks = []\n",
        "    GPUs = GPUtil.getGPUs()\n",
        "    for gpu in GPUs:\n",
        "        handle = pynvml.nvmlDeviceGetHandleByIndex(gpu.id)\n",
        "        utilization.append(gpu.load*100)\n",
        "        memory_used.append(gpu.memoryUsed)\n",
        "        graphics_clocks.append(pynvml.nvmlDeviceGetClockInfo(handle, pynvml.NVML_CLOCK_GRAPHICS))\n",
        "        sm_clocks.append(pynvml.nvmlDeviceGetClockInfo(handle, pynvml.NVML_CLOCK_SM))\n",
        "        memory_clocks.append(pynvml.nvmlDeviceGetClockInfo(handle, pynvml.NVML_CLOCK_MEM))\n",
        "    return utilization, memory_used, graphics_clocks, sm_clocks, memory_clocks\n",
        "\n",
        "# Callback per registrare le metriche della GPU\n",
        "class GPUUtilizationCallback(Callback):\n",
        "    def __init__(self):\n",
        "        super(GPUUtilizationCallback, self).__init__()\n",
        "        self.gpu_utilization = []\n",
        "        self.gpu_memory = []\n",
        "        self.graphics_clocks = []\n",
        "        self.sm_clocks = []\n",
        "        self.memory_clocks = []\n",
        "\n",
        "    def on_epoch_end(self, epoch, logs=None):\n",
        "        utilization, memory_used, graphics_clocks, sm_clocks, memory_clocks = log_gpu_utilization()\n",
        "        self.gpu_utilization.append(utilization[0])  # Considera solo la prima GPU\n",
        "        self.gpu_memory.append(memory_used[0])       # Considera solo la prima GPU\n",
        "        self.graphics_clocks.append(graphics_clocks[0])\n",
        "        self.sm_clocks.append(sm_clocks[0])\n",
        "        self.memory_clocks.append(memory_clocks[0])\n",
        "        print(f\"Epoch {epoch+1} GPU Utilization: {utilization[0]}%, Memory Used: {memory_used[0]}MB\")\n",
        "        print(f\"  Graphics Clock: {graphics_clocks[0]} MHz\")\n",
        "        print(f\"  SM Clock: {sm_clocks[0]} MHz\")\n",
        "        print(f\"  Memory Clock: {memory_clocks[0]} MHz\")\n",
        "\n",
        "device_name = tf.test.gpu_device_name()\n",
        "if device_name != '/device:GPU:0':\n",
        "    raise SystemError('GPU device not found')\n",
        "\n",
        "# Caricamento e pre-elaborazione del dataset\n",
        "dataset = pd.read_csv(\"synthetic-dataset/preference.csv\", header=1, names=['user_id', 'activity_id', 'rating'])\n",
        "\n",
        "# Replace -1 with NaN to indicate missing data\n",
        "dataset.replace(-1, np.nan, inplace=True)\n",
        "\n",
        "# Calcola la media delle preferenze per ogni utente\n",
        "mean_user_preferences = dataset.groupby('user_id')['rating'].transform('mean')\n",
        "\n",
        "# Sostituisci i NaN con la media calcolata per ciascun utente\n",
        "dataset['rating'] = dataset['rating'].fillna(mean_user_preferences)\n",
        "\n",
        "# Mischiare i dati\n",
        "dataset = dataset.sample(frac=1, random_state=42).reset_index(drop=True)\n",
        "\n",
        "# Map activity ID to [1, num_activities]\n",
        "activity_id_to_new_id = dict()\n",
        "id = 1\n",
        "for index, row in dataset.iterrows():\n",
        "    if activity_id_to_new_id.get(row['activity_id']) is None:\n",
        "        activity_id_to_new_id[row['activity_id']] = id\n",
        "        dataset.at[index, 'activity_id'] = id\n",
        "        id += 1\n",
        "    else:\n",
        "        dataset.at[index, 'activity_id'] = activity_id_to_new_id.get(row['activity_id'])\n",
        "\n",
        "num_users = len(dataset.user_id.unique())\n",
        "num_activities = len(dataset.activity_id.unique())\n",
        "train, test = train_test_split(dataset, test_size=0.2)\n",
        "\n",
        "print('Number of activities', num_activities)\n",
        "print('Number of users', num_users)\n",
        "print(activity_id_to_new_id)\n",
        "\n",
        "latent_dim = 1\n",
        "\n",
        "# Define inputs\n",
        "activity_input = Input(shape=[1], name='activity-input')\n",
        "user_input = Input(shape=[1], name='user-input')\n",
        "\n",
        "# MLP Embeddings\n",
        "activity_embedding_mlp = Embedding(num_activities + 1, latent_dim, name='activity-embedding-mlp')(activity_input)\n",
        "activity_vec_mlp = Flatten(name='flatten-activity-mlp')(activity_embedding_mlp)\n",
        "\n",
        "user_embedding_mlp = Embedding(num_users + 1, latent_dim, name='user-embedding-mlp')(user_input)\n",
        "user_vec_mlp = Flatten(name='flatten-user-mlp')(user_embedding_mlp)\n",
        "\n",
        "# MF Embeddings\n",
        "activity_embedding_mf = Embedding(num_activities + 1, latent_dim, name='activity-embedding-mf')(activity_input)\n",
        "activity_vec_mf = Flatten(name='flatten-activity-mf')(activity_embedding_mf)\n",
        "\n",
        "user_embedding_mf = Embedding(num_users + 1, latent_dim, name='user-embedding-mf')(user_input)\n",
        "user_vec_mf = Flatten(name='flatten-user-mf')(user_embedding_mf)\n",
        "\n",
        "# MLP layers\n",
        "concat = concatenate([activity_vec_mlp, user_vec_mlp], name='concat')\n",
        "concat_dropout = Dropout(0.2)(concat)\n",
        "fc_1 = Dense(100, name='fc-1', activation='relu')(concat_dropout)\n",
        "fc_1_bn = BatchNormalization(name='batch-norm-1')(fc_1)\n",
        "fc_1_dropout = Dropout(0.2)(fc_1_bn)\n",
        "fc_2 = Dense(50, name='fc-2', activation='relu')(fc_1_dropout)\n",
        "fc_2_bn = BatchNormalization(name='batch-norm-2')(fc_2)\n",
        "fc_2_dropout = Dropout(0.2)(fc_2_bn)\n",
        "\n",
        "# Prediction from both layers\n",
        "pred_mlp = Dense(10, name='pred-mlp', activation='relu')(fc_2_dropout)\n",
        "pred_mf = dot([activity_vec_mf, user_vec_mf], axes=1, name='pred-mf')\n",
        "combine_mlp_mf = concatenate([pred_mf, pred_mlp], name='combine-mlp-mf')\n",
        "\n",
        "# Final prediction\n",
        "result = Dense(1, name='result', activation='relu')(combine_mlp_mf)\n",
        "\n",
        "model = Model([user_input, activity_input], result)\n",
        "model.compile(optimizer=Adam(learning_rate=0.01), loss='mean_absolute_error')\n",
        "\n",
        "# Monitoraggio delle prestazioni della GPU durante l'addestramento\n",
        "gpu_callback = GPUUtilizationCallback()\n",
        "train_losses = []\n",
        "epoch_times = []\n",
        "num_epochs = 10\n",
        "\n",
        "for epoch in range(num_epochs):\n",
        "    start_time = time.time()\n",
        "\n",
        "    history = model.fit([train.user_id, train.activity_id], train.rating, epochs=1, verbose=0, callbacks=[gpu_callback])\n",
        "\n",
        "    end_time = time.time()\n",
        "    epoch_time = end_time - start_time\n",
        "\n",
        "    train_losses.append(history.history['loss'][0])\n",
        "    epoch_times.append(epoch_time)\n",
        "\n",
        "    print(f\"Epoch {epoch+1}/{num_epochs} completed in {epoch_time:.2f} seconds\")\n",
        "\n",
        "# Plotting GPU utilization\n",
        "plt.figure(figsize=(10, 5))\n",
        "plt.plot(range(1, num_epochs + 1), gpu_callback.gpu_utilization, marker='o')\n",
        "plt.title('GPU Utilization Over Time')\n",
        "plt.xlabel('Epoch')\n",
        "plt.ylabel('Utilization (%)')\n",
        "plt.grid(True)\n",
        "plt.show()\n",
        "\n",
        "# Plotting GPU memory usage\n",
        "plt.figure(figsize=(10, 5))\n",
        "plt.plot(range(1, num_epochs + 1), gpu_callback.gpu_memory, marker='o')\n",
        "plt.title('GPU Memory Usage Over Time')\n",
        "plt.xlabel('Epoch')\n",
        "plt.ylabel('Memory Used (MB)')\n",
        "plt.grid(True)\n",
        "plt.show()\n",
        "\n",
        "# Plotting GPU graphics clock speed\n",
        "plt.figure(figsize=(10, 5))\n",
        "plt.plot(range(1, num_epochs + 1), gpu_callback.graphics_clocks, marker='o')\n",
        "plt.title('GPU Graphics Clock Over Time')\n",
        "plt.xlabel('Epoch')\n",
        "plt.ylabel('Graphics Clock (MHz)')\n",
        "plt.grid(True)\n",
        "plt.show()\n",
        "\n",
        "# Plotting GPU SM clock speed\n",
        "plt.figure(figsize=(10, 5))\n",
        "plt.plot(range(1, num_epochs + 1), gpu_callback.sm_clocks, marker='o')\n",
        "plt.title('GPU SM Clock Over Time')\n",
        "plt.xlabel('Epoch')\n",
        "plt.ylabel('SM Clock (MHz)')\n",
        "plt.grid(True)\n",
        "plt.show()\n",
        "\n",
        "# Plotting GPU memory clock speed\n",
        "plt.figure(figsize=(10, 5))\n",
        "plt.plot(range(1, num_epochs + 1), gpu_callback.memory_clocks, marker='o')\n",
        "plt.title('GPU Memory Clock Over Time')\n",
        "plt.xlabel('Epoch')\n",
        "plt.ylabel('Memory Clock (MHz)')\n",
        "plt.grid(True)\n",
        "plt.show()\n",
        "\n",
        "# Plotting training loss\n",
        "plt.figure(figsize=(10, 5))\n",
        "plt.plot(range(1, num_epochs + 1), train_losses, marker='o')\n",
        "plt.title('Training Loss Over Time')\n",
        "plt.xlabel('Epoch')\n",
        "plt.ylabel('Train Loss')\n",
        "plt.yscale('log')\n",
        "plt.grid(True)\n",
        "plt.show()\n",
        "\n",
        "# Plotting epoch times\n",
        "plt.figure(figsize=(10, 5))\n",
        "plt.plot(range(1, num_epochs + 1), epoch_times, marker='o')\n",
        "plt.title('Epoch Time Over Time')\n",
        "plt.xlabel('Epoch')\n",
        "plt.ylabel('Time (seconds)')\n",
        "plt.grid(True)\n",
        "plt.show()\n",
        "\n",
        "y_hat = np.round(model.predict([test.user_id, test.activity_id]), decimals=2)\n",
        "y_true = test.rating\n",
        "print(\"Mean Absolute Error:\", mean_absolute_error(y_true, y_hat))\n",
        "\n",
        "# Cleanup NVML\n",
        "pynvml.nvmlShutdown()\n"
      ]
    },
    {
      "cell_type": "markdown",
      "metadata": {
        "id": "7-WAjW1Z7tj_"
      },
      "source": [
        "Performance CPU"
      ]
    },
    {
      "cell_type": "code",
      "execution_count": 12,
      "metadata": {
        "colab": {
          "base_uri": "https://localhost:8080/",
          "height": 1000
        },
        "id": "7dKqJorX7tj_",
        "outputId": "481a8d35-9ee7-40fa-cfb0-6ebc679b5233"
      },
      "outputs": [
        {
          "name": "stdout",
          "output_type": "stream",
          "text": [
            "CPU: 11th Gen Intel(R) Core(TM) i9-11900H @ 2.50GHz\n",
            "Memory usage at start: 954.17 MB\n",
            "Number of activities 112\n",
            "Number of users 50\n",
            "{73.0: 1, 8.0: 2, 69.0: 3, 81.0: 4, 102.0: 5, 83.0: 6, 45.0: 7, 80.0: 8, 29.0: 9, 11.0: 10, 98.0: 11, 18.0: 12, 63.0: 13, 48.0: 14, 101.0: 15, 47.0: 16, 52.0: 17, 92.0: 18, 65.0: 19, 25.0: 20, 85.0: 21, 31.0: 22, 49.0: 23, 99.0: 24, 58.0: 25, 86.0: 26, 10.0: 27, 33.0: 28, 67.0: 29, 38.0: 30, 26.0: 31, 109.0: 32, 37.0: 33, 23.0: 34, 88.0: 35, 64.0: 36, 77.0: 37, 17.0: 38, 7.0: 39, 56.0: 40, 76.0: 41, 39.0: 42, 96.0: 43, 84.0: 44, 4.0: 45, 105.0: 46, 6.0: 47, 27.0: 48, 53.0: 49, 70.0: 50, 106.0: 51, 61.0: 52, 24.0: 53, 90.0: 54, 51.0: 55, 79.0: 56, 72.0: 57, 36.0: 58, 89.0: 59, 95.0: 60, 74.0: 61, 13.0: 62, 30.0: 63, 44.0: 64, 87.0: 65, 97.0: 66, 32.0: 67, 59.0: 68, 21.0: 69, 14.0: 70, 40.0: 71, 68.0: 72, 93.0: 73, 9.0: 74, 71.0: 75, 91.0: 76, 20.0: 77, 100.0: 78, 66.0: 79, 108.0: 80, 34.0: 81, 46.0: 82, 57.0: 83, 2.0: 84, 22.0: 85, 82.0: 86, 15.0: 87, 60.0: 88, 110.0: 89, 103.0: 90, 35.0: 91, 1.0: 92, 3.0: 93, 0.0: 94, 16.0: 95, 78.0: 96, 75.0: 97, 5.0: 98, 41.0: 99, 43.0: 100, 19.0: 101, 12.0: 102, 94.0: 103, 50.0: 104, 28.0: 105, 107.0: 106, 42.0: 107, 54.0: 108, 111.0: 109, 55.0: 110, 62.0: 111, 104.0: 112}\n",
            "Epoch 1/10\n",
            "136/140 [============================>.] - ETA: 0s - loss: 0.1997Epoch 1: CPU Usage: 60.30%, Throughput: 3076.38 samples/sec\n",
            "140/140 [==============================] - 1s 5ms/step - loss: 0.1981\n",
            "Epoch 2/10\n",
            "129/140 [==========================>...] - ETA: 0s - loss: 0.0817Epoch 2: CPU Usage: 99.80%, Throughput: 5679.36 samples/sec\n",
            "140/140 [==============================] - 1s 6ms/step - loss: 0.0793\n",
            "Epoch 3/10\n",
            "139/140 [============================>.] - ETA: 0s - loss: 0.0466Epoch 3: CPU Usage: 99.80%, Throughput: 5225.45 samples/sec\n",
            "140/140 [==============================] - 1s 6ms/step - loss: 0.0464\n",
            "Epoch 4/10\n",
            "138/140 [============================>.] - ETA: 0s - loss: 0.0440Epoch 4: CPU Usage: 100.00%, Throughput: 4732.99 samples/sec\n",
            "140/140 [==============================] - 1s 7ms/step - loss: 0.0440\n",
            "Epoch 5/10\n",
            "129/140 [==========================>...] - ETA: 0s - loss: 0.0438Epoch 5: CPU Usage: 100.00%, Throughput: 5745.53 samples/sec\n",
            "140/140 [==============================] - 1s 6ms/step - loss: 0.0432\n",
            "Epoch 6/10\n",
            "139/140 [============================>.] - ETA: 0s - loss: 0.0427Epoch 6: CPU Usage: 100.00%, Throughput: 7478.56 samples/sec\n",
            "140/140 [==============================] - 1s 4ms/step - loss: 0.0428\n",
            "Epoch 7/10\n",
            "132/140 [===========================>..] - ETA: 0s - loss: 0.0417Epoch 7: CPU Usage: 100.00%, Throughput: 8813.88 samples/sec\n",
            "140/140 [==============================] - 1s 4ms/step - loss: 0.0420\n",
            "Epoch 8/10\n",
            "134/140 [===========================>..] - ETA: 0s - loss: 0.0416Epoch 8: CPU Usage: 99.90%, Throughput: 6344.78 samples/sec\n",
            "140/140 [==============================] - 1s 5ms/step - loss: 0.0421\n",
            "Epoch 9/10\n",
            "136/140 [============================>.] - ETA: 0s - loss: 0.0419Epoch 9: CPU Usage: 99.90%, Throughput: 5367.79 samples/sec\n",
            "140/140 [==============================] - 1s 6ms/step - loss: 0.0419\n",
            "Epoch 10/10\n",
            "130/140 [==========================>...] - ETA: 0s - loss: 0.0419Epoch 10: CPU Usage: 100.00%, Throughput: 5290.81 samples/sec\n",
            "140/140 [==============================] - 1s 6ms/step - loss: 0.0420\n",
            "Memory usage at end: 1008.82 MB\n",
            "Memory used: 54.66 MB\n",
            "CPU usage during training: 95.97%\n",
            "Elapsed time for training: 8.905 seconds\n"
          ]
        },
        {
          "data": {
            "image/png": "[encoded data removed]",
            "text/plain": [
              "<Figure size 640x480 with 1 Axes>"
            ]
          },
          "metadata": {},
          "output_type": "display_data"
        },
        {
          "data": {
            "image/png": "[encoded data removed]",
            "text/plain": [
              "<Figure size 640x480 with 1 Axes>"
            ]
          },
          "metadata": {},
          "output_type": "display_data"
        },
        {
          "data": {
            "image/png": "[encoded data removed]",
            "text/plain": [
              "<Figure size 640x480 with 1 Axes>"
            ]
          },
          "metadata": {},
          "output_type": "display_data"
        },
        {
          "data": {
            "image/png": "[encoded data removed]",
            "text/plain": [
              "<Figure size 640x480 with 1 Axes>"
            ]
          },
          "metadata": {},
          "output_type": "display_data"
        },
        {
          "name": "stdout",
          "output_type": "stream",
          "text": [
            "35/35 [==============================] - 0s 3ms/step\n",
            "Mean Absolute Error: 0.039467939720115426\n"
          ]
        }
      ],
      "source": [
        "import pandas as pd\n",
        "import numpy as np\n",
        "from sklearn.model_selection import train_test_split\n",
        "import psutil\n",
        "import time\n",
        "import tensorflow as tf\n",
        "import cpuinfo\n",
        "import os\n",
        "\n",
        "# Function to monitor CPU usage\n",
        "def monitor_cpu():\n",
        "    cpu_percent = psutil.cpu_percent(interval=0.1)\n",
        "    return cpu_percent\n",
        "\n",
        "# Function to monitor memory usage\n",
        "def monitor_memory():\n",
        "    memory_info = process.memory_info()\n",
        "    return memory_info.data / 1e6 # in MB\n",
        "\n",
        "pid = os.getpid()\n",
        "process = psutil.Process(pid)\n",
        "\n",
        "cpu_name = cpuinfo.get_cpu_info()['brand_raw'] # get only the brand name\n",
        "print(\"CPU:\", cpu_name)\n",
        "\n",
        "time_start = time.time()\n",
        "memory_usage_start = monitor_memory()\n",
        "# set the reference for cpu usage\n",
        "monitor_cpu()\n",
        "\n",
        "time_start = time.time()\n",
        "memory_usage_start = monitor_memory()\n",
        "# set the reference for cpu usage\n",
        "monitor_cpu()\n",
        "\n",
        "print(\"Memory usage at start: %.2f MB\"% memory_usage_start)\n",
        "\n",
        "############## NORMALIZZARE IL DATASET ##############\n",
        "\n",
        "dataset = pd.read_csv(\"synthetic-dataset/preference.csv\", header=1, names=['user_id', 'activity_id', 'rating'])\n",
        "\n",
        "# Replace -1 with NaN to indicate missing data\n",
        "dataset.replace(-1, np.nan, inplace=True)\n",
        "\n",
        "# Calcola la media delle preferenze per ogni utente\n",
        "mean_user_preferences = dataset.groupby('user_id')['rating'].transform('mean')\n",
        "\n",
        "# Sostituisci i NaN con la media calcolata per ciascun utente\n",
        "dataset['rating'] = dataset['rating'].fillna(mean_user_preferences)\n",
        "\n",
        "# Mischiare i dati\n",
        "dataset = dataset.sample(frac=1, random_state=42).reset_index(drop=True)\n",
        "\n",
        "# Need to map activity ID to [1, num_activities], assegna nuovi id ai attività per contare numero di attività e numero di utenti\n",
        "activity_id_to_new_id = dict()\n",
        "id = 1\n",
        "for index, row in dataset.iterrows():\n",
        "    if activity_id_to_new_id.get(row['activity_id']) is None:\n",
        "        activity_id_to_new_id[row['activity_id']] = id\n",
        "        dataset.at[index, 'activity_id'] = id\n",
        "        id += 1\n",
        "    else:\n",
        "        dataset.at[index, 'activity_id'] = activity_id_to_new_id.get(row['activity_id'])\n",
        "\n",
        "num_users = len(dataset.user_id.unique())\n",
        "num_activities = len(dataset.activity_id.unique())\n",
        "train, test = train_test_split(dataset, test_size=0.2)\n",
        "\n",
        "print('Number of activities', num_activities)\n",
        "print('Number of users', num_users)\n",
        "print(activity_id_to_new_id)\n",
        "\n",
        "from keras.models import Model\n",
        "from keras.layers import Embedding, Flatten, Input, Dropout, Dense, BatchNormalization, concatenate, dot\n",
        "from keras.optimizers import Adam\n",
        "from tensorflow.keras.utils import plot_model\n",
        "from IPython.display import SVG\n",
        "\n",
        "latent_dim = 1  # capire se mettere 1 o 10\n",
        "\n",
        "# Define inputs\n",
        "activity_input = Input(shape=[1], name='activity-input')\n",
        "user_input = Input(shape=[1], name='user-input')\n",
        "\n",
        "# MLP Embeddings\n",
        "activity_embedding_mlp = Embedding(num_activities + 1, latent_dim, name='activity-embedding-mlp')(activity_input)\n",
        "activity_vec_mlp = Flatten(name='flatten-activity-mlp')(activity_embedding_mlp)\n",
        "\n",
        "user_embedding_mlp = Embedding(num_users + 1, latent_dim, name='user-embedding-mlp')(user_input)\n",
        "user_vec_mlp = Flatten(name='flatten-user-mlp')(user_embedding_mlp)\n",
        "\n",
        "# MF Embeddings\n",
        "activity_embedding_mf = Embedding(num_activities + 1, latent_dim, name='activity-embedding-mf')(activity_input)\n",
        "activity_vec_mf = Flatten(name='flatten-activity-mf')(activity_embedding_mf)\n",
        "\n",
        "user_embedding_mf = Embedding(num_users + 1, latent_dim, name='user-embedding-mf')(user_input)\n",
        "user_vec_mf = Flatten(name='flatten-user-mf')(user_embedding_mf)\n",
        "\n",
        "# MLP layers\n",
        "concat = concatenate([activity_vec_mlp, user_vec_mlp], name='concat')\n",
        "concat_dropout = Dropout(0.2)(concat)\n",
        "fc_1 = Dense(100, name='fc-1', activation='relu')(concat_dropout)\n",
        "fc_1_bn = BatchNormalization(name='batch-norm-1')(fc_1)\n",
        "fc_1_dropout = Dropout(0.2)(fc_1_bn)\n",
        "fc_2 = Dense(50, name='fc-2', activation='relu')(fc_1_dropout)\n",
        "fc_2_bn = BatchNormalization(name='batch-norm-2')(fc_2)\n",
        "fc_2_dropout = Dropout(0.2)(fc_2_bn)\n",
        "\n",
        "# Prediction from both layers\n",
        "pred_mlp = Dense(10, name='pred-mlp', activation='relu')(fc_2_dropout)\n",
        "pred_mf = dot([activity_vec_mf, user_vec_mf], axes=1, name='pred-mf')\n",
        "combine_mlp_mf = concatenate([pred_mf, pred_mlp], name='combine-mlp-mf')\n",
        "\n",
        "# Final prediction\n",
        "result = Dense(1, name='result', activation='relu')(combine_mlp_mf)\n",
        "\n",
        "model = Model([user_input, activity_input], result)\n",
        "model.compile(optimizer=Adam(learning_rate=0.01), loss='mean_absolute_error')\n",
        "\n",
        "import matplotlib.pyplot as plt\n",
        "from sklearn.metrics import mean_absolute_error\n",
        "\n",
        "# Variables to store CPU usage and throughput per epoch\n",
        "cpu_usage = []\n",
        "throughput = []\n",
        "epoch_times = []\n",
        "\n",
        "class PerformanceCallback(tf.keras.callbacks.Callback):\n",
        "    def on_epoch_begin(self, epoch, logs=None):\n",
        "        self.start_time = time.time()\n",
        "        self.cpu_start = psutil.cpu_percent(interval=None)\n",
        "\n",
        "    def on_epoch_end(self, epoch, logs=None):\n",
        "        elapsed_time = time.time() - self.start_time\n",
        "        cpu_used = psutil.cpu_percent(interval=None) # cpu_percent() automatically calculates CPU usage since the last call\n",
        "        samples_per_sec = len(train) / elapsed_time\n",
        "\n",
        "        cpu_usage.append(cpu_used)\n",
        "        throughput.append(samples_per_sec)\n",
        "\n",
        "        epoch_times.append(elapsed_time)\n",
        "\n",
        "        print(f\"Epoch {epoch + 1}: CPU Usage: {cpu_used:.2f}%, Throughput: {samples_per_sec:.2f} samples/sec\")\n",
        "\n",
        "performance_callback = PerformanceCallback()\n",
        "history = model.fit([train.user_id, train.activity_id], train.rating, epochs=10, callbacks=[performance_callback])\n",
        "\n",
        "elapsed_time = time.time() - time_start\n",
        "cpu_usage_training = np.array(cpu_usage).mean()\n",
        "memory_usage_end = monitor_memory()\n",
        "print(\"Memory usage at end: %.2f MB\"% memory_usage_end)\n",
        "memory_used = memory_usage_end - memory_usage_start\n",
        "print(\"Memory used: %.2f MB\"% memory_used)\n",
        "print(\"CPU usage during training: %.2f%%\"% cpu_usage_training)\n",
        "print(\"Elapsed time for training: %.3f seconds\"% elapsed_time)\n",
        "\n",
        "# Plot training error\n",
        "plt.figure()\n",
        "pd.Series(history.history['loss']).plot(logy=True)\n",
        "plt.xlabel(\"Epoch\")\n",
        "plt.ylabel(\"Train Error\")\n",
        "plt.show()\n",
        "\n",
        "# Plot CPU usage\n",
        "plt.figure()\n",
        "plt.plot(cpu_usage, label='CPU Usage (%)')\n",
        "plt.xlabel(\"Epoch\")\n",
        "plt.ylabel(\"CPU Usage (%)\")\n",
        "plt.legend()\n",
        "plt.show()\n",
        "\n",
        "# Plot throughput\n",
        "plt.figure()\n",
        "plt.plot(throughput, label='Throughput (samples/sec)')\n",
        "plt.xlabel(\"Epoch\")\n",
        "plt.ylabel(\"Throughput (samples/sec)\")\n",
        "plt.legend()\n",
        "plt.show()\n",
        "\n",
        "# Plot epoch times\n",
        "plt.figure()\n",
        "plt.plot(epoch_times, label='Epoch time (sec)')\n",
        "plt.xlabel(\"Epoch\")\n",
        "plt.ylabel(\"Elapsed time (sec)\")\n",
        "plt.legend()\n",
        "plt.show()\n",
        "\n",
        "y_hat = np.round(model.predict([test.user_id, test.activity_id]), decimals=2)\n",
        "y_true = test.rating\n",
        "print(\"Mean Absolute Error:\", mean_absolute_error(y_true, y_hat))"
      ]
    },
    {
      "cell_type": "code",
      "execution_count": 13,
      "metadata": {},
      "outputs": [
        {
          "name": "stdout",
          "output_type": "stream",
          "text": [
            "Total elapsed time: 11.47 seconds\n"
          ]
        }
      ],
      "source": [
        "# total elapsed time\n",
        "total_time = sum(epoch_times)\n",
        "print(f\"Total elapsed time: {total_time:.2f} seconds\")"
      ]
    },
    {
      "cell_type": "markdown",
      "metadata": {},
      "source": [
        "### Inference (single user)"
      ]
    },
    {
      "cell_type": "code",
      "execution_count": 13,
      "metadata": {},
      "outputs": [
        {
          "name": "stdout",
          "output_type": "stream",
          "text": [
            "4/4 [==============================] - 0s 10ms/step\n",
            "Total execution time: 0.159 seconds\n",
            "CPU usage: 100.00%\n",
            "Memory usage: 8.52 MB\n",
            "Top 5 activities for user 23: [105  12  70 111  82]\n"
          ]
        }
      ],
      "source": [
        "\n",
        "user_id = np.random.choice(test.user_id.unique())\n",
        "\n",
        "# Measure start time and CPU usage\n",
        "start_time = time.time()\n",
        "memory_usage_start = monitor_memory()\n",
        "\n",
        "top_activities = np.argsort(-model.predict([np.array([user_id] * num_activities), np.arange(1, num_activities + 1)]).flatten())[:5]\n",
        "\n",
        "# Measure end time\n",
        "end_time = time.time()\n",
        "memory_usage_end = monitor_memory()\n",
        "\n",
        "# Calculate total execution time and CPU usage\n",
        "execution_time = end_time - start_time\n",
        "cpu_usage = monitor_cpu()\n",
        "\n",
        "print(\"Total execution time: %.3f seconds\" % execution_time)\n",
        "print(\"CPU usage: %.2f%%\" % cpu_usage)\n",
        "print(\"Memory usage: %.2f MB\" % (memory_usage_end - memory_usage_start))\n",
        "\n",
        "print(\"Top 5 activities for user %d:\" % user_id, top_activities)"
      ]
    }
  ],
  "metadata": {
    "colab": {
      "provenance": []
    },
    "kernelspec": {
      "display_name": "myenv_1",
      "language": "python",
      "name": "python3"
    },
    "language_info": {
      "codemirror_mode": {
        "name": "ipython",
        "version": 3
      },
      "file_extension": ".py",
      "mimetype": "text/x-python",
      "name": "python",
      "nbconvert_exporter": "python",
      "pygments_lexer": "ipython3",
      "version": "3.11.5"
    }
  },
  "nbformat": 4,
  "nbformat_minor": 0
}
